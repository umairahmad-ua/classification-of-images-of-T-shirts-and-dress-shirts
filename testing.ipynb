{
 "cells": [
  {
   "cell_type": "code",
   "execution_count": 1,
   "metadata": {},
   "outputs": [],
   "source": [
    "import numpy as np\n",
    "from skimage.feature import hog\n",
    "from sklearn.metrics import accuracy_score\n",
    "from skimage import feature\n",
    "import pandas as pd\n",
    "from collections import defaultdict\n",
    "import pickle"
   ]
  },
  {
   "cell_type": "code",
   "execution_count": 2,
   "metadata": {},
   "outputs": [],
   "source": [
    "Xts=np.loadtxt(\"C:/Users/Umair/Downloads/Final ML ASSIGNMENT 2/TestData.csv\") "
   ]
  },
  {
   "cell_type": "code",
   "execution_count": 3,
   "metadata": {},
   "outputs": [],
   "source": [
    "#HOG\n",
    "def Extract_Features_Hog(examples,o,c,b):\n",
    "    lst=[]\n",
    "    for image in examples:\n",
    "        fd, hog_image = hog(image.reshape(28,28), orientations=o, pixels_per_cell=(c, b), cells_per_block=(c, b), visualize=True, multichannel=False)\n",
    "        arr=np.array(hog_image)\n",
    "        arr=arr.reshape(-1)\n",
    "        lst.append(arr)\n",
    "    return lst\n",
    "vectors=Extract_Features_Hog(Xts,9,2,2) \n"
   ]
  },
  {
   "cell_type": "code",
   "execution_count": 4,
   "metadata": {},
   "outputs": [
    {
     "name": "stdout",
     "output_type": "stream",
     "text": [
      "[-1.  1.  1. ...  1.  1. -1.]\n"
     ]
    }
   ],
   "source": [
    "with open(\"myModel.pkl\", 'rb') as file:  \n",
    "    Pickled_Model = pickle.load(file)\n",
    "Yts=Pickled_Model.predict(Xts)\n",
    "np.savetxt(\"myPredictions.csv\", Yts)\n",
    "print(Yts)"
   ]
  }
 ],
 "metadata": {
  "kernelspec": {
   "display_name": "Python 3",
   "language": "python",
   "name": "python3"
  },
  "language_info": {
   "codemirror_mode": {
    "name": "ipython",
    "version": 3
   },
   "file_extension": ".py",
   "mimetype": "text/x-python",
   "name": "python",
   "nbconvert_exporter": "python",
   "pygments_lexer": "ipython3",
   "version": "3.8.5"
  }
 },
 "nbformat": 4,
 "nbformat_minor": 4
}
